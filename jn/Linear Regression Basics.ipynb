{
 "cells": [
  {
   "cell_type": "code",
   "execution_count": 2,
   "metadata": {},
   "outputs": [],
   "source": [
    "import numpy as np\n",
    "import matplotlib.pyplot as plt\n",
    "import pandas as pd\n",
    "%matplotlib inline"
   ]
  },
  {
   "cell_type": "markdown",
   "metadata": {},
   "source": [
    "## Generate data"
   ]
  },
  {
   "cell_type": "code",
   "execution_count": 3,
   "metadata": {},
   "outputs": [],
   "source": [
    "npoints = 30 \n",
    "beta0 = 2.2\n",
    "beta1 = 1.2 \n",
    "epsillon = 0.75\n",
    "\n",
    "x = np.linspace(0, 4, num=npoints)\n",
    "y = beta0 + beta1*x + np.random.normal(loc=0, scale=epsillon, size=npoints)\n",
    "\n",
    "mydf = pd.DataFrame( {'x':x, 'y':y})\n",
    "\n",
    "mydf.to_csv('data.csv', index=False)\n"
   ]
  },
  {
   "cell_type": "markdown",
   "metadata": {},
   "source": [
    "## This is for the students. Exercises "
   ]
  },
  {
   "cell_type": "markdown",
   "metadata": {},
   "source": [
    "### Exercise 1:\n",
    "- Load data from data file `data.csv` using pandas\n",
    "- Examine the dataframe. How many points? "
   ]
  },
  {
   "cell_type": "code",
   "execution_count": 4,
   "metadata": {},
   "outputs": [
    {
     "data": {
      "text/html": [
       "<div>\n",
       "<style scoped>\n",
       "    .dataframe tbody tr th:only-of-type {\n",
       "        vertical-align: middle;\n",
       "    }\n",
       "\n",
       "    .dataframe tbody tr th {\n",
       "        vertical-align: top;\n",
       "    }\n",
       "\n",
       "    .dataframe thead th {\n",
       "        text-align: right;\n",
       "    }\n",
       "</style>\n",
       "<table border=\"1\" class=\"dataframe\">\n",
       "  <thead>\n",
       "    <tr style=\"text-align: right;\">\n",
       "      <th></th>\n",
       "      <th>x</th>\n",
       "      <th>y</th>\n",
       "    </tr>\n",
       "  </thead>\n",
       "  <tbody>\n",
       "    <tr>\n",
       "      <th>count</th>\n",
       "      <td>30.000000</td>\n",
       "      <td>30.000000</td>\n",
       "    </tr>\n",
       "    <tr>\n",
       "      <th>mean</th>\n",
       "      <td>2.000000</td>\n",
       "      <td>4.644803</td>\n",
       "    </tr>\n",
       "    <tr>\n",
       "      <th>std</th>\n",
       "      <td>1.214263</td>\n",
       "      <td>1.603514</td>\n",
       "    </tr>\n",
       "    <tr>\n",
       "      <th>min</th>\n",
       "      <td>0.000000</td>\n",
       "      <td>1.753943</td>\n",
       "    </tr>\n",
       "    <tr>\n",
       "      <th>25%</th>\n",
       "      <td>1.000000</td>\n",
       "      <td>3.275704</td>\n",
       "    </tr>\n",
       "    <tr>\n",
       "      <th>50%</th>\n",
       "      <td>2.000000</td>\n",
       "      <td>4.522066</td>\n",
       "    </tr>\n",
       "    <tr>\n",
       "      <th>75%</th>\n",
       "      <td>3.000000</td>\n",
       "      <td>5.908817</td>\n",
       "    </tr>\n",
       "    <tr>\n",
       "      <th>max</th>\n",
       "      <td>4.000000</td>\n",
       "      <td>7.777943</td>\n",
       "    </tr>\n",
       "  </tbody>\n",
       "</table>\n",
       "</div>"
      ],
      "text/plain": [
       "               x          y\n",
       "count  30.000000  30.000000\n",
       "mean    2.000000   4.644803\n",
       "std     1.214263   1.603514\n",
       "min     0.000000   1.753943\n",
       "25%     1.000000   3.275704\n",
       "50%     2.000000   4.522066\n",
       "75%     3.000000   5.908817\n",
       "max     4.000000   7.777943"
      ]
     },
     "execution_count": 4,
     "metadata": {},
     "output_type": "execute_result"
    }
   ],
   "source": [
    "# Import the pandas library and name it pd \n",
    "import pandas as pd \n",
    "\n",
    "# Read data.csv file using pandas libraries \n",
    "mydf = pd.read_csv('data.csv');  # pd.... \n",
    "\n",
    "# Check number of observations and number of columns, mean values of x and y etc \n",
    "mydf.describe() # mydf.... "
   ]
  },
  {
   "cell_type": "markdown",
   "metadata": {},
   "source": [
    "### Exercise 2\n",
    "- Draw x vs y \n"
   ]
  },
  {
   "cell_type": "code",
   "execution_count": 97,
   "metadata": {},
   "outputs": [
    {
     "data": {
      "text/plain": [
       "[<matplotlib.lines.Line2D at 0x116aaeda0>]"
      ]
     },
     "execution_count": 97,
     "metadata": {},
     "output_type": "execute_result"
    },
    {
     "data": {
      "image/png": "[encoded data removed]",
      "text/plain": [
       "<matplotlib.figure.Figure at 0x116a18940>"
      ]
     },
     "metadata": {},
     "output_type": "display_data"
    }
   ],
   "source": [
    "# Import the matplotlib \n",
    "import matplotlib.pyplot as plt \n",
    "\n",
    "# make sure the plots stay within the notebook \n",
    "%matplotlib inline\n",
    "\n",
    "plt.plot(mydf.x, mydf.y, 'bs')  # plt.... "
   ]
  },
  {
   "cell_type": "markdown",
   "metadata": {},
   "source": [
    "### Exercise 3\n",
    "- Guess beta0 and beta1 and make predictions with your model. \n",
    "- Calculate the MSE for your model "
   ]
  },
  {
   "cell_type": "code",
   "execution_count": 98,
   "metadata": {},
   "outputs": [
    {
     "name": "stdout",
     "output_type": "stream",
     "text": [
      "My MSE is 1.0261679910109047\n"
     ]
    },
    {
     "data": {
      "image/png": "[encoded data removed]",
      "text/plain": [
       "<matplotlib.figure.Figure at 0x116ac9d30>"
      ]
     },
     "metadata": {},
     "output_type": "display_data"
    }
   ],
   "source": [
    "# Guestimate beta0 by observing the value of y when x = 0\n",
    "beta0 = 1.5    \n",
    "\n",
    "# Guestimate beta1! Check the slope for guidance\n",
    "beta1 = 1.5  \n",
    "\n",
    "x = mydf.x \n",
    "\n",
    "y_pred = beta0 + beta1 * x  # y_ped = ... \n",
    "\n",
    "# Plot the predicted values as well as the data \n",
    "plt.plot(x, mydf.y, 'bs')\n",
    "plt.plot(x, y_pred)\n",
    "\n",
    "# Calculate the MSE\n",
    "MSE  = np.mean((mydf.y-y_pred)**2)  # MSE = ... \n",
    "\n",
    "# Print the results \n",
    "print(\"My MSE is\", MSE)"
   ]
  },
  {
   "cell_type": "markdown",
   "metadata": {},
   "source": [
    "### Exercise 4\n",
    "- Set beta0 = 2.2 and examine all models for beta1 = 0,3 in increments of 0.1  "
   ]
  },
  {
   "cell_type": "code",
   "execution_count": 106,
   "metadata": {},
   "outputs": [
    {
     "data": {
      "text/plain": [
       "[<matplotlib.lines.Line2D at 0x115be6940>]"
      ]
     },
     "execution_count": 106,
     "metadata": {},
     "output_type": "execute_result"
    },
    {
     "data": {
      "image/png": "[encoded data removed]",
      "text/plain": [
       "<matplotlib.figure.Figure at 0x1160f1940>"
      ]
     },
     "metadata": {},
     "output_type": "display_data"
    }
   ],
   "source": [
    "# Set beta0 = 2.2 \n",
    "beta0 = 2.2 \n",
    "\n",
    "# Create lists to store the MSE and beta1\n",
    "MSE = [] \n",
    "beta1_list = []\n",
    "\n",
    "\n",
    "\n",
    "for beta1 in np.arange(0, 3, 0.1):        # for beta1 in np.arange(...)\n",
    "    y_pred = beta0 + beta1 * x   \n",
    "    # Appeend the new MSE in the list you created above  \n",
    "    MSE.append(np.mean((mydf.y-y_pred)**2) )  # MSE. ... \n",
    "    # Also append beta1 values in the list \n",
    "    beta1_list.append(beta1)\n",
    "\n",
    "# Plot MSE as a function of beta1 \n",
    "plt.plot(beta1_list, MSE)"
   ]
  },
  {
   "cell_type": "code",
   "execution_count": 105,
   "metadata": {},
   "outputs": [
    {
     "data": {
      "text/plain": [
       "[<matplotlib.lines.Line2D at 0x11637b128>]"
      ]
     },
     "execution_count": 105,
     "metadata": {},
     "output_type": "execute_result"
    },
    {
     "data": {
      "image/png": "[encoded data removed]",
      "text/plain": [
       "<matplotlib.figure.Figure at 0x115b31080>"
      ]
     },
     "metadata": {},
     "output_type": "display_data"
    }
   ],
   "source": []
  },
  {
   "cell_type": "code",
   "execution_count": 48,
   "metadata": {},
   "outputs": [
    {
     "data": {
      "text/plain": [
       "Text(0, 0.5, 'Sales')"
      ]
     },
     "execution_count": 48,
     "metadata": {},
     "output_type": "execute_result"
    },
    {
     "data": {
      "image/png": "[encoded data removed]",
      "text/plain": [
       "<Figure size 432x288 with 1 Axes>"
      ]
     },
     "metadata": {},
     "output_type": "display_data"
    }
   ],
   "source": [
    "# import matplotlib.pyplot\n",
    "import matplotlib.pyplot as plt\n",
    "\n",
    "import pandas as pd\n",
    "\n",
    "# add the following line in order to have the plots inside the notebook\n",
    "%matplotlib inline\n",
    "\n",
    "# read the data\n",
    "data_filename = 'https://raw.githubusercontent.com/Harvard-IACS/2018-CS109A/master/content/lectures/lecture5/data/Advertising.csv'\n",
    "df = pd.read_csv(data_filename);\n",
    "\n",
    "#  columns in data frame as [x,y]\n",
    "df = df.iloc[5:13]\n",
    "\n",
    "# Plot Sales vs TV\n",
    "plt.plot(df.TV, df.sales, 'b+')\n",
    "\n",
    "# Add axis labels for clarity\n",
    "plt.xlabel('TV budget')\n",
    "plt.ylabel('Sales')"
   ]
  },
  {
   "cell_type": "code",
   "execution_count": 52,
   "metadata": {},
   "outputs": [],
   "source": [
    "#import numpy and name it np \n",
    "import numpy as np\n",
    "\n",
    "# Sort the data\n",
    "# Get a subset of the data\n",
    "data_x = df.TV\n",
    "data_y = df.sales\n",
    "\n",
    "# Here's a function that finds the index of the nearest neighbor \n",
    "# and returns the value of the nearest neighbor.  Note that this \n",
    "# is just for k = 1 and the distance function is simply the \n",
    "# absolute value.\n",
    "def find_nearest(df,value):\n",
    "    data_x = df.TV\n",
    "    \n",
    "    idx = (np.abs(data_x-value)).idxmin()\n",
    "    return idx, data_x[idx]\n",
    "\n",
    "# Note:  You may find it helpful to print out idx to see what's in it"
   ]
  },
  {
   "cell_type": "code",
   "execution_count": 53,
   "metadata": {},
   "outputs": [],
   "source": [
    "# Note that we have used the idxmin method in our function.  This is \n",
    "# because `array' is a pandas dataframe and idxmin() is designed to \n",
    "# work with pandas dataframes.  If we are working with a numpy array \n",
    "# then the appropriate method would be `argmin()'.\n",
    "\n",
    "# Create some artificial x-values (might not be in the actual dataset)\n",
    "x = np.linspace(np.min(data_x), np.max(data_x))\n",
    "\n",
    "# Initialize the y-values to zero\n",
    "y = np.zeros( (len(x)))\n",
    "\n",
    "\n",
    "# Apply the KNN algorithm.  Try to predict the y-value at a given x-value\n",
    "# Note:  You may have tried to use the `range' method in your code.  Enumerate \n",
    "# is far better in this case.  Try to understand why.\n",
    "for i, xi in enumerate(x):\n",
    "    y[i] = data_y[find_nearest( df, xi )[0]]"
   ]
  },
  {
   "cell_type": "code",
   "execution_count": 54,
   "metadata": {},
   "outputs": [
    {
     "data": {
      "text/plain": [
       "Text(0, 0.5, 'Sales in $1000')"
      ]
     },
     "execution_count": 54,
     "metadata": {},
     "output_type": "execute_result"
    },
    {
     "data": {
      "image/png": "[encoded data removed]",
      "text/plain": [
       "<Figure size 432x288 with 1 Axes>"
      ]
     },
     "metadata": {},
     "output_type": "display_data"
    }
   ],
   "source": [
    "# Plot your solution    \n",
    "plt.plot(x,y, '-')\n",
    "# Plot the original data using black x's.\n",
    "plt.plot(df.TV, df.sales, 'k+')\n",
    "plt.title('')\n",
    "plt.xlabel('TV budget in $1000')\n",
    "plt.ylabel('Sales in $1000')\n"
   ]
  },
  {
   "cell_type": "code",
   "execution_count": 31,
   "metadata": {},
   "outputs": [
    {
     "data": {
      "text/plain": [
       "array([23.8, 23.8, 23.8, 23.8, 23.8, 23.8, 23.8, 23.8, 23.8, 23.8, 23.8,\n",
       "       23.8, 23.8, 23.8, 23.8, 23.8, 23.8, 23.8, 23.8, 23.8, 23.8, 23.8,\n",
       "       23.8, 23.8, 23.8, 23.8, 23.8, 23.8, 23.8, 23.8, 23.8, 23.8, 23.8,\n",
       "       23.8, 23.8, 23.8, 23.8, 23.8, 23.8, 23.8, 23.8, 23.8, 23.8, 23.8,\n",
       "       23.8, 23.8, 23.8, 23.8, 23.8, 23.8])"
      ]
     },
     "execution_count": 31,
     "metadata": {},
     "output_type": "execute_result"
    }
   ],
   "source": [
    "x"
   ]
  },
  {
   "cell_type": "code",
   "execution_count": null,
   "metadata": {},
   "outputs": [],
   "source": []
  }
 ],
 "metadata": {
  "kernelspec": {
   "display_name": "Python 3",
   "language": "python",
   "name": "python3"
  },
  "language_info": {
   "codemirror_mode": {
    "name": "ipython",
    "version": 3
   },
   "file_extension": ".py",
   "mimetype": "text/x-python",
   "name": "python",
   "nbconvert_exporter": "python",
   "pygments_lexer": "ipython3",
   "version": "3.6.8"
  }
 },
 "nbformat": 4,
 "nbformat_minor": 2
}
